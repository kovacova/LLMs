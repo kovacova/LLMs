{
 "cells": [
  {
   "cell_type": "markdown",
   "id": "ebea2593-8c0e-4d40-9cec-8e5da3759761",
   "metadata": {},
   "source": [
    "# Oil Painting"
   ]
  },
  {
   "cell_type": "code",
   "execution_count": 1,
   "id": "d9800c20-c1b3-4894-bab1-78c73a59a951",
   "metadata": {},
   "outputs": [],
   "source": [
    "import os\n",
    "from openai import OpenAI\n",
    "from dotenv import load_dotenv, find_dotenv\n",
    "from IPython.display import Image, display"
   ]
  },
  {
   "cell_type": "code",
   "execution_count": 2,
   "id": "b48525bd-a058-4627-8f41-083d8ca449c9",
   "metadata": {},
   "outputs": [],
   "source": [
    "# Load .env file from the parent directory\n",
    "dotenv_path = find_dotenv('../.env')\n",
    "load_dotenv(dotenv_path)\n",
    "\n",
    "# Now, you can safely load your API key from environment variables\n",
    "api_key = os.getenv(\"OPENAI_API_KEY\")\n",
    "if not api_key:\n",
    "    raise ValueError(\"API key not found. Please set the OPENAI_API_KEY environment variable.\")"
   ]
  },
  {
   "cell_type": "code",
   "execution_count": 3,
   "id": "8d104d90-bc22-4864-9883-ff151abb6ffc",
   "metadata": {},
   "outputs": [
    {
     "name": "stdout",
     "output_type": "stream",
     "text": [
      "ImagesResponse(created=1723945464, data=[Image(b64_json=None, revised_prompt='Create a pixel art image of an astronaut. This astronaut has a Caucasian descent and is a male. The astronaut is relaxing at a tropical resort that absurdly exists in space. Include palm trees swaying in the zero-gravity environment, the spacesuit leisurely reclining on a beach chair, with a tropical drink in his hand. Also, illustrate the distant planets, nebulas, and twinkling stars in the open space background while maintaining the tropical ambiance.', url='https://oaidalleapiprodscus.blob.core.windows.net/private/org-6KzPuGczg08XHZB1gpF3q6OM/user-4nIOckwoHivCoksDGVzLRdWN/img-TZlvQP8lubXAV48OphTh1WAy.png?st=2024-08-18T00%3A44%3A24Z&se=2024-08-18T02%3A44%3A24Z&sp=r&sv=2024-08-04&sr=b&rscd=inline&rsct=image/png&skoid=d505667d-d6c1-4a0a-bac7-5c84a87759f8&sktid=a48cca56-e6da-484e-a814-9c849652bcb3&skt=2024-08-17T05%3A14%3A01Z&ske=2024-08-18T05%3A14%3A01Z&sks=b&skv=2024-08-04&sig=st1T2AjOmaXBb6Ldj3YIA8b/GrCSaqMuHSDhCjOZV04%3D')])\n"
     ]
    }
   ],
   "source": [
    "# gets OPENAI_API_KEY from your environment variables\n",
    "openai = OpenAI()\n",
    "\n",
    "prompt = \"An astronaut lounging in a tropical resort in space, pixel art\"\n",
    "model = \"dall-e-3\"\n",
    "\n",
    "\n",
    "def main() -> None:\n",
    "    # Generate an image based on the prompt\n",
    "    response = openai.images.generate(prompt=prompt, model=model)\n",
    "\n",
    "    # Prints response containing a URL link to image\n",
    "    print(response)\n",
    "\n",
    "\n",
    "if __name__ == \"__main__\":\n",
    "    main()"
   ]
  },
  {
   "cell_type": "code",
   "execution_count": 6,
   "id": "95c64d08-76bb-44f2-8d9b-7216e4b2fc2e",
   "metadata": {},
   "outputs": [
    {
     "name": "stdout",
     "output_type": "stream",
     "text": [
      "An error occurred: 'ImagesResponse' object is not subscriptable\n"
     ]
    }
   ],
   "source": [
    "def generate_and_display_image(prompt):\n",
    "    try:\n",
    "        # Create image using OpenAI's API\n",
    "        response = openai.images.generate(\n",
    "            model=\"dall-e-3\",  # Make sure to use the correct model identifier\n",
    "            prompt=prompt,\n",
    "            n=1,\n",
    "            size=\"1024x1024\"\n",
    "        )\n",
    "        \n",
    "        # Extract image URL from the response\n",
    "        image_url = response['data'][0]['url']\n",
    "        display(Image(url=image_url))  # Display the image directly in the notebook\n",
    "        \n",
    "    except Exception as e:\n",
    "        print(f\"An error occurred: {e}\")\n",
    "\n",
    "# Example usage\n",
    "prompt = \"A cozy cabin in the woods at twilight, with warm lights and falling snow\"\n",
    "generate_and_display_image(prompt)"
   ]
  },
  {
   "cell_type": "code",
   "execution_count": null,
   "id": "2e17b70b-6786-48a8-bf6a-e19266364825",
   "metadata": {},
   "outputs": [],
   "source": []
  }
 ],
 "metadata": {
  "kernelspec": {
   "display_name": "Python 3 (ipykernel)",
   "language": "python",
   "name": "python3"
  },
  "language_info": {
   "codemirror_mode": {
    "name": "ipython",
    "version": 3
   },
   "file_extension": ".py",
   "mimetype": "text/x-python",
   "name": "python",
   "nbconvert_exporter": "python",
   "pygments_lexer": "ipython3",
   "version": "3.10.14"
  }
 },
 "nbformat": 4,
 "nbformat_minor": 5
}
