{
 "cells": [
  {
   "cell_type": "markdown",
   "id": "574104ce-bcc3-4352-9d61-783496aae728",
   "metadata": {},
   "source": [
    "# Coursera Test"
   ]
  },
  {
   "cell_type": "code",
   "execution_count": null,
   "id": "0f3c15a4-0016-431a-ada5-ea8e1ddbe83f",
   "metadata": {},
   "outputs": [],
   "source": []
  },
  {
   "cell_type": "code",
   "execution_count": null,
   "id": "b17dc387-fa13-4de6-a858-2e8028b57d10",
   "metadata": {},
   "outputs": [],
   "source": []
  },
  {
   "cell_type": "code",
   "execution_count": null,
   "id": "2f37fdf3-f680-43ac-9565-71a80dce4958",
   "metadata": {},
   "outputs": [],
   "source": []
  }
 ],
 "metadata": {
  "kernelspec": {
   "display_name": "Python 3 (ipykernel)",
   "language": "python",
   "name": "python3"
  },
  "language_info": {
   "codemirror_mode": {
    "name": "ipython",
    "version": 3
   },
   "file_extension": ".py",
   "mimetype": "text/x-python",
   "name": "python",
   "nbconvert_exporter": "python",
   "pygments_lexer": "ipython3",
   "version": "3.10.14"
  }
 },
 "nbformat": 4,
 "nbformat_minor": 5
}
